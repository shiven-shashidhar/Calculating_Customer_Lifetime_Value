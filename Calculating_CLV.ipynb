{
 "cells": [
  {
   "cell_type": "markdown",
   "metadata": {},
   "source": [
    "# Estimating Historic CLV"
   ]
  },
  {
   "cell_type": "markdown",
   "metadata": {},
   "source": [
    "Step 1: Understand the dataset  \n"
   ]
  },
  {
   "cell_type": "code",
   "execution_count": 7,
   "metadata": {},
   "outputs": [
    {
     "data": {
      "text/html": [
       "<div>\n",
       "<style scoped>\n",
       "    .dataframe tbody tr th:only-of-type {\n",
       "        vertical-align: middle;\n",
       "    }\n",
       "\n",
       "    .dataframe tbody tr th {\n",
       "        vertical-align: top;\n",
       "    }\n",
       "\n",
       "    .dataframe thead th {\n",
       "        text-align: right;\n",
       "    }\n",
       "</style>\n",
       "<table border=\"1\" class=\"dataframe\">\n",
       "  <thead>\n",
       "    <tr style=\"text-align: right;\">\n",
       "      <th></th>\n",
       "      <th>TransactionID</th>\n",
       "      <th>TransactionDate</th>\n",
       "      <th>CustomerID</th>\n",
       "      <th>Amount</th>\n",
       "    </tr>\n",
       "  </thead>\n",
       "  <tbody>\n",
       "    <tr>\n",
       "      <th>0</th>\n",
       "      <td>1</td>\n",
       "      <td>9/4/2012</td>\n",
       "      <td>1</td>\n",
       "      <td>20.26</td>\n",
       "    </tr>\n",
       "    <tr>\n",
       "      <th>1</th>\n",
       "      <td>2</td>\n",
       "      <td>5/15/2012</td>\n",
       "      <td>2</td>\n",
       "      <td>10.87</td>\n",
       "    </tr>\n",
       "    <tr>\n",
       "      <th>2</th>\n",
       "      <td>3</td>\n",
       "      <td>5/23/2014</td>\n",
       "      <td>2</td>\n",
       "      <td>2.21</td>\n",
       "    </tr>\n",
       "    <tr>\n",
       "      <th>3</th>\n",
       "      <td>4</td>\n",
       "      <td>10/24/2014</td>\n",
       "      <td>2</td>\n",
       "      <td>10.48</td>\n",
       "    </tr>\n",
       "    <tr>\n",
       "      <th>4</th>\n",
       "      <td>5</td>\n",
       "      <td>10/13/2012</td>\n",
       "      <td>2</td>\n",
       "      <td>3.94</td>\n",
       "    </tr>\n",
       "  </tbody>\n",
       "</table>\n",
       "</div>"
      ],
      "text/plain": [
       "   TransactionID TransactionDate  CustomerID  Amount\n",
       "0              1        9/4/2012           1   20.26\n",
       "1              2       5/15/2012           2   10.87\n",
       "2              3       5/23/2014           2    2.21\n",
       "3              4      10/24/2014           2   10.48\n",
       "4              5      10/13/2012           2    3.94"
      ]
     },
     "execution_count": 7,
     "metadata": {},
     "output_type": "execute_result"
    }
   ],
   "source": [
    "# Loading the dataset from csv file\n",
    "import pandas as pd\n",
    "missing_values = ['na','--']\n",
    "df = pd.read_csv('./clv_transactions.csv', na_values= missing_values)\n",
    "df.head()\n",
    "#Observations: Date and TransactionID are ordinal attributes. Amount is a continuous numerical attribute. Customer ID is nominal."
   ]
  },
  {
   "cell_type": "code",
   "execution_count": 8,
   "metadata": {},
   "outputs": [
    {
     "data": {
      "text/plain": [
       "False"
      ]
     },
     "execution_count": 8,
     "metadata": {},
     "output_type": "execute_result"
    }
   ],
   "source": [
    "#1 Checking for missing values\n",
    "df.isnull().values.any()"
   ]
  },
  {
   "cell_type": "code",
   "execution_count": 10,
   "metadata": {},
   "outputs": [
    {
     "name": "stdout",
     "output_type": "stream",
     "text": [
      "Range of dates in the dataset is from 2010-01-04 00:00:00 to 2015-12-31 00:00:00\n"
     ]
    }
   ],
   "source": [
    "df['TransactionDate'] = pd.to_datetime(df['TransactionDate'])\n",
    "min_date = df['TransactionDate'].min()\n",
    "max_date = df['TransactionDate'].max()\n",
    "print('Range of dates in the dataset is from {} to {}'.format(min_date, max_date))"
   ]
  },
  {
   "cell_type": "markdown",
   "metadata": {},
   "source": [
    "Range of dates in the dataset is from 2010-01-04 to 2015-12-31 "
   ]
  },
  {
   "cell_type": "code",
   "execution_count": 5,
   "metadata": {},
   "outputs": [
    {
     "data": {
      "text/plain": [
       "1000"
      ]
     },
     "execution_count": 5,
     "metadata": {},
     "output_type": "execute_result"
    }
   ],
   "source": [
    "len(df['CustomerID'].unique())"
   ]
  },
  {
   "cell_type": "markdown",
   "metadata": {},
   "source": [
    "There are 1000 unique customers in the dataset"
   ]
  },
  {
   "cell_type": "code",
   "execution_count": 6,
   "metadata": {},
   "outputs": [
    {
     "name": "stdout",
     "output_type": "stream",
     "text": [
      "count    4186.000000\n",
      "mean        9.028082\n",
      "std        38.723909\n",
      "min        -1.000000\n",
      "25%         3.310000\n",
      "50%         6.885000\n",
      "75%        11.690000\n",
      "max      2033.000000\n",
      "Name: Amount, dtype: float64\n",
      "variance in Amount: 1499.5411107517461\n"
     ]
    }
   ],
   "source": [
    "print(df['Amount'].describe())\n",
    "var_amount = df['Amount'].var()\n",
    "print('variance in Amount:',var_amount)"
   ]
  },
  {
   "cell_type": "markdown",
   "metadata": {},
   "source": [
    "For the Amount field:  \n",
    "min = -1 units, max = 2033 units, variance = 1499 units and standard deviation = 38.723 units  \n",
    "The transaction amount has to be a positive number, but we find that in the dataset, amount has negative values. This outlier will be treated in the next step."
   ]
  },
  {
   "cell_type": "code",
   "execution_count": 7,
   "metadata": {
    "scrolled": true
   },
   "outputs": [
    {
     "data": {
      "image/png": "[encoded data removed]",
      "text/plain": [
       "<Figure size 432x288 with 1 Axes>"
      ]
     },
     "metadata": {
      "needs_background": "light"
     },
     "output_type": "display_data"
    },
    {
     "data": {
      "text/plain": [
       "<matplotlib.axes._subplots.AxesSubplot at 0x253fc498240>"
      ]
     },
     "execution_count": 7,
     "metadata": {},
     "output_type": "execute_result"
    },
    {
     "data": {
      "image/png": "[encoded data removed]",
      "text/plain": [
       "<Figure size 432x288 with 1 Axes>"
      ]
     },
     "metadata": {
      "needs_background": "light"
     },
     "output_type": "display_data"
    }
   ],
   "source": [
    "%matplotlib inline\n",
    "import matplotlib.pyplot as plt\n",
    "dates = [pd.to_datetime(i) for i in df['TransactionDate']]\n",
    "plt.plot_date(dates, df['Amount']) #Scatter plot of log(amount) vs transaction date\n",
    "plt.yscale('log')\n",
    "plt.xlabel('Transaction Year')\n",
    "plt.ylabel('log Amount')\n",
    "plt.show()\n",
    "\n",
    "#Bar Plot of median amount vs transaction date\n",
    "df[\"TransactionDate\"] = df[\"TransactionDate\"].astype(\"datetime64\")\n",
    "df['Amount'].groupby(df[\"TransactionDate\"].dt.year).median().plot('bar')\n",
    "\n"
   ]
  },
  {
   "cell_type": "markdown",
   "metadata": {},
   "source": [
    "As shown in the two plots above, transaction amounts in general do not increase over time."
   ]
  },
  {
   "cell_type": "markdown",
   "metadata": {},
   "source": [
    "Step 2: Explore the dataset  \n",
    "\n"
   ]
  },
  {
   "cell_type": "code",
   "execution_count": 8,
   "metadata": {},
   "outputs": [
    {
     "name": "stdout",
     "output_type": "stream",
     "text": [
      "Data outside upper and lower bound:\n",
      "       TransactionID TransactionDate  CustomerID   Amount\n",
      "23               24      2011-10-07           7  1003.00\n",
      "54               55      2015-01-29          13    37.27\n",
      "62               63      2012-01-21          14    28.72\n",
      "136             137      2014-02-15          34    25.60\n",
      "165             166      2014-01-20          41    29.12\n",
      "211             212      2014-05-14          54  1027.00\n",
      "263             264      2012-06-21          69    38.29\n",
      "330             331      2012-08-14          84    24.27\n",
      "374             375      2013-05-02          94    29.50\n",
      "418             419      2013-12-31         100    30.31\n",
      "496             497      2013-04-22         119    25.59\n",
      "585             586      2013-03-16         145    30.43\n",
      "613             614      2010-05-23         155    26.67\n",
      "650             651      2013-03-25         168    27.26\n",
      "955             956      2013-06-05         238    24.56\n",
      "966             967      2015-12-24         241    24.47\n",
      "1076           1077      2013-11-07         277    24.47\n",
      "1080           1081      2015-01-26         278    28.82\n",
      "1122           1123      2012-03-11         286    28.86\n",
      "1344           1345      2013-06-28         345    29.99\n",
      "1382           1383      2011-12-12         352    28.44\n",
      "1417           1418      2014-06-06         360    25.87\n",
      "1545           1546      2013-09-01         386    25.47\n",
      "1639           1640      2014-08-18         402    25.50\n",
      "1727           1728      2013-12-13         426    27.51\n",
      "1826           1827      2015-01-21         451    27.67\n",
      "1977           1978      2014-07-13         487    24.86\n",
      "2058           2059      2013-01-17         510    25.65\n",
      "2066           2067      2014-03-27         512    26.33\n",
      "2072           2073      2015-11-16         514    24.79\n",
      "...             ...             ...         ...      ...\n",
      "2423           2424      2015-09-28         619    25.09\n",
      "2465           2466      2015-05-26         626    24.86\n",
      "2473           2474      2012-07-17         627    27.29\n",
      "2490           2491      2011-07-13         632    36.94\n",
      "2561           2562      2015-06-28         646    28.36\n",
      "2618           2619      2014-03-13         658    24.69\n",
      "2633           2634      2012-01-26         660    29.98\n",
      "2638           2639      2014-03-31         662    27.58\n",
      "2644           2645      2011-05-16         663    31.40\n",
      "2760           2761      2013-08-31         691    38.35\n",
      "2823           2824      2011-02-07         701    26.88\n",
      "2830           2831      2010-09-26         702    26.68\n",
      "2849           2850      2013-04-08         703    25.62\n",
      "2861           2862      2015-04-19         705    27.19\n",
      "3069           3070      2015-10-19         748    28.15\n",
      "3171           3172      2015-03-17         774    25.33\n",
      "3204           3205      2010-09-10         782    24.59\n",
      "3365           3366      2015-07-26         820    24.50\n",
      "3439           3440      2011-10-26         840    28.28\n",
      "3518           3519      2011-10-13         858    25.17\n",
      "3562           3563      2015-05-23         866    28.58\n",
      "3662           3663      2011-02-11         886    29.87\n",
      "3723           3724      2015-07-13         904    26.92\n",
      "3757           3758      2014-01-11         911    28.87\n",
      "3778           3779      2015-09-26         914    28.03\n",
      "3883           3884      2015-04-01         941    25.69\n",
      "3964           3965      2013-07-28         957    30.01\n",
      "3998           3999      2012-09-11         963    28.13\n",
      "4028           4029      2014-08-25         970    24.97\n",
      "4177           4178      2012-08-13        1000  2033.00\n",
      "\n",
      "[65 rows x 4 columns]\n",
      "Any negative/zero values : \n",
      "       TransactionID TransactionDate  CustomerID  Amount\n",
      "49               50      2012-05-12          13    -1.0\n",
      "3326           3327      2014-01-16         811    -1.0\n"
     ]
    },
    {
     "data": {
      "image/png": "[encoded data removed]",
      "text/plain": [
       "<Figure size 432x288 with 1 Axes>"
      ]
     },
     "metadata": {
      "needs_background": "light"
     },
     "output_type": "display_data"
    }
   ],
   "source": [
    "#For Amount\n",
    "def outlier_test():\n",
    "    q1 = df['Amount'].quantile(0.25)\n",
    "    q2 = df['Amount'].median()\n",
    "    q3 = df['Amount'].quantile(0.75)\n",
    "    IQR = q3 - q1\n",
    "    upper_bound = q3 + 1.5 * IQR\n",
    "    lower_bound = q1 - 1.5 * IQR\n",
    "    print('Data outside upper and lower bound:\\n',df[(df['Amount'] > upper_bound) | (df['Amount'] < lower_bound)])\n",
    "    print('Any negative/zero values : \\n', df[(df['Amount']<=0)])\n",
    "    plt.boxplot(df['Amount'])\n",
    "    plt.ylabel('Amount')\n",
    "    plt.show()\n",
    "\n",
    "outlier_test()"
   ]
  },
  {
   "cell_type": "markdown",
   "metadata": {},
   "source": [
    "For the outlier analysis, I make use of box plot since they are robust to outliers.  The box plot clearly shows outliers in the form of abnormally high values near the 1000 mark and 2000 mark. \n",
    "Also, we observe that there are 2 records in the data where the Amount column has a negative value. I treat this as abnormal values too."
   ]
  },
  {
   "cell_type": "markdown",
   "metadata": {},
   "source": [
    "First off, I drop the negative/zero values from the data frame. "
   ]
  },
  {
   "cell_type": "code",
   "execution_count": 9,
   "metadata": {},
   "outputs": [],
   "source": [
    "#Removing the negative values from amount \n",
    "df = df.drop(df.index[df['Amount']<=0])\n"
   ]
  },
  {
   "cell_type": "markdown",
   "metadata": {},
   "source": [
    "Next, based on the box plot, I remove the outlier values which are greater than 250. Once this is done, I shall reconstruct the box plot and histogram to check the transformed data set."
   ]
  },
  {
   "cell_type": "code",
   "execution_count": 10,
   "metadata": {},
   "outputs": [],
   "source": [
    "#Removing abnormally high values\n",
    "df = df.drop(df.index[df['Amount'] > 250])"
   ]
  },
  {
   "cell_type": "code",
   "execution_count": 11,
   "metadata": {},
   "outputs": [
    {
     "name": "stdout",
     "output_type": "stream",
     "text": [
      "Data outside upper and lower bound:\n",
      "       TransactionID TransactionDate  CustomerID  Amount\n",
      "54               55      2015-01-29          13   37.27\n",
      "62               63      2012-01-21          14   28.72\n",
      "136             137      2014-02-15          34   25.60\n",
      "165             166      2014-01-20          41   29.12\n",
      "263             264      2012-06-21          69   38.29\n",
      "330             331      2012-08-14          84   24.27\n",
      "374             375      2013-05-02          94   29.50\n",
      "418             419      2013-12-31         100   30.31\n",
      "496             497      2013-04-22         119   25.59\n",
      "585             586      2013-03-16         145   30.43\n",
      "613             614      2010-05-23         155   26.67\n",
      "650             651      2013-03-25         168   27.26\n",
      "955             956      2013-06-05         238   24.56\n",
      "966             967      2015-12-24         241   24.47\n",
      "1076           1077      2013-11-07         277   24.47\n",
      "1080           1081      2015-01-26         278   28.82\n",
      "1122           1123      2012-03-11         286   28.86\n",
      "1344           1345      2013-06-28         345   29.99\n",
      "1382           1383      2011-12-12         352   28.44\n",
      "1417           1418      2014-06-06         360   25.87\n",
      "1545           1546      2013-09-01         386   25.47\n",
      "1639           1640      2014-08-18         402   25.50\n",
      "1727           1728      2013-12-13         426   27.51\n",
      "1826           1827      2015-01-21         451   27.67\n",
      "1977           1978      2014-07-13         487   24.86\n",
      "2058           2059      2013-01-17         510   25.65\n",
      "2066           2067      2014-03-27         512   26.33\n",
      "2072           2073      2015-11-16         514   24.79\n",
      "2155           2156      2011-07-01         537   25.88\n",
      "2193           2194      2013-03-01         551   28.31\n",
      "...             ...             ...         ...     ...\n",
      "2310           2311      2015-03-19         585   25.50\n",
      "2423           2424      2015-09-28         619   25.09\n",
      "2465           2466      2015-05-26         626   24.86\n",
      "2473           2474      2012-07-17         627   27.29\n",
      "2490           2491      2011-07-13         632   36.94\n",
      "2561           2562      2015-06-28         646   28.36\n",
      "2618           2619      2014-03-13         658   24.69\n",
      "2633           2634      2012-01-26         660   29.98\n",
      "2638           2639      2014-03-31         662   27.58\n",
      "2644           2645      2011-05-16         663   31.40\n",
      "2760           2761      2013-08-31         691   38.35\n",
      "2823           2824      2011-02-07         701   26.88\n",
      "2830           2831      2010-09-26         702   26.68\n",
      "2849           2850      2013-04-08         703   25.62\n",
      "2861           2862      2015-04-19         705   27.19\n",
      "3069           3070      2015-10-19         748   28.15\n",
      "3171           3172      2015-03-17         774   25.33\n",
      "3204           3205      2010-09-10         782   24.59\n",
      "3365           3366      2015-07-26         820   24.50\n",
      "3439           3440      2011-10-26         840   28.28\n",
      "3518           3519      2011-10-13         858   25.17\n",
      "3562           3563      2015-05-23         866   28.58\n",
      "3662           3663      2011-02-11         886   29.87\n",
      "3723           3724      2015-07-13         904   26.92\n",
      "3757           3758      2014-01-11         911   28.87\n",
      "3778           3779      2015-09-26         914   28.03\n",
      "3883           3884      2015-04-01         941   25.69\n",
      "3964           3965      2013-07-28         957   30.01\n",
      "3998           3999      2012-09-11         963   28.13\n",
      "4028           4029      2014-08-25         970   24.97\n",
      "\n",
      "[62 rows x 4 columns]\n",
      "Any negative/zero values : \n",
      " Empty DataFrame\n",
      "Columns: [TransactionID, TransactionDate, CustomerID, Amount]\n",
      "Index: []\n"
     ]
    },
    {
     "data": {
      "image/png": "[encoded data removed]",
      "text/plain": [
       "<Figure size 432x288 with 1 Axes>"
      ]
     },
     "metadata": {
      "needs_background": "light"
     },
     "output_type": "display_data"
    }
   ],
   "source": [
    "outlier_test()"
   ]
  },
  {
   "cell_type": "code",
   "execution_count": 12,
   "metadata": {},
   "outputs": [
    {
     "data": {
      "text/plain": [
       "<matplotlib.axes._subplots.AxesSubplot at 0x253fd5d1048>"
      ]
     },
     "execution_count": 12,
     "metadata": {},
     "output_type": "execute_result"
    },
    {
     "data": {
      "image/png": "[encoded data removed]",
      "text/plain": [
       "<Figure size 432x288 with 1 Axes>"
      ]
     },
     "metadata": {
      "needs_background": "light"
     },
     "output_type": "display_data"
    }
   ],
   "source": [
    "df['Amount'].hist()"
   ]
  },
  {
   "cell_type": "markdown",
   "metadata": {},
   "source": [
    "Step 3: Determine origin year of customers  \n",
    "Some of the underlying customers are brand new and others have been customers for almost five years. Obviously the newer   customers will have (generally) spent less on average than the old ones. So, we need to separate the customers into groups   based on how long ago they were acquired (e.g. customers acquired in 2010, vs customers acquired in 2011, ...).   \n"
   ]
  },
  {
   "cell_type": "code",
   "execution_count": 13,
   "metadata": {},
   "outputs": [],
   "source": [
    "#Creating a new column 'OriginYear' in df\n",
    "df['OriginYear'] = df['TransactionDate'] #Initializing column\n",
    "df['OriginYear'] = df.groupby('CustomerID')['OriginYear'].transform('min')   #Computing the value of earliest txn date for each customer ID"
   ]
  },
  {
   "cell_type": "code",
   "execution_count": 14,
   "metadata": {},
   "outputs": [],
   "source": [
    "df['OriginYear'] = pd.to_datetime(df['OriginYear']) "
   ]
  },
  {
   "cell_type": "code",
   "execution_count": 15,
   "metadata": {},
   "outputs": [],
   "source": [
    "df['TransactionDate'] = pd.to_datetime(df['TransactionDate'])"
   ]
  },
  {
   "cell_type": "code",
   "execution_count": 16,
   "metadata": {},
   "outputs": [],
   "source": [
    "df['OriginYear'] = df['OriginYear'].dt.year #Extracting year from date and assigning it"
   ]
  },
  {
   "cell_type": "markdown",
   "metadata": {},
   "source": [
    "Step 4: Calculate cumulative transaction amounts  \n"
   ]
  },
  {
   "cell_type": "code",
   "execution_count": 17,
   "metadata": {},
   "outputs": [],
   "source": [
    "df_cumulative_txn_amt = pd.DataFrame(columns = ['OriginYear', '12', '24', '36', '48', '60', '72'])"
   ]
  },
  {
   "cell_type": "code",
   "execution_count": 18,
   "metadata": {},
   "outputs": [],
   "source": [
    "#populating origin year column based on unique values obtained in the original dataframe\n",
    "df_cumulative_txn_amt['OriginYear'] = sorted(df['OriginYear'].unique())"
   ]
  },
  {
   "cell_type": "code",
   "execution_count": 19,
   "metadata": {},
   "outputs": [
    {
     "data": {
      "text/html": [
       "<div>\n",
       "<style scoped>\n",
       "    .dataframe tbody tr th:only-of-type {\n",
       "        vertical-align: middle;\n",
       "    }\n",
       "\n",
       "    .dataframe tbody tr th {\n",
       "        vertical-align: top;\n",
       "    }\n",
       "\n",
       "    .dataframe thead th {\n",
       "        text-align: right;\n",
       "    }\n",
       "</style>\n",
       "<table border=\"1\" class=\"dataframe\">\n",
       "  <thead>\n",
       "    <tr style=\"text-align: right;\">\n",
       "      <th></th>\n",
       "      <th>OriginYear</th>\n",
       "      <th>12</th>\n",
       "      <th>24</th>\n",
       "      <th>36</th>\n",
       "      <th>48</th>\n",
       "      <th>60</th>\n",
       "      <th>72</th>\n",
       "    </tr>\n",
       "  </thead>\n",
       "  <tbody>\n",
       "    <tr>\n",
       "      <th>0</th>\n",
       "      <td>2010</td>\n",
       "      <td>NaN</td>\n",
       "      <td>NaN</td>\n",
       "      <td>NaN</td>\n",
       "      <td>NaN</td>\n",
       "      <td>NaN</td>\n",
       "      <td>NaN</td>\n",
       "    </tr>\n",
       "    <tr>\n",
       "      <th>1</th>\n",
       "      <td>2011</td>\n",
       "      <td>NaN</td>\n",
       "      <td>NaN</td>\n",
       "      <td>NaN</td>\n",
       "      <td>NaN</td>\n",
       "      <td>NaN</td>\n",
       "      <td>NaN</td>\n",
       "    </tr>\n",
       "    <tr>\n",
       "      <th>2</th>\n",
       "      <td>2012</td>\n",
       "      <td>NaN</td>\n",
       "      <td>NaN</td>\n",
       "      <td>NaN</td>\n",
       "      <td>NaN</td>\n",
       "      <td>NaN</td>\n",
       "      <td>NaN</td>\n",
       "    </tr>\n",
       "    <tr>\n",
       "      <th>3</th>\n",
       "      <td>2013</td>\n",
       "      <td>NaN</td>\n",
       "      <td>NaN</td>\n",
       "      <td>NaN</td>\n",
       "      <td>NaN</td>\n",
       "      <td>NaN</td>\n",
       "      <td>NaN</td>\n",
       "    </tr>\n",
       "    <tr>\n",
       "      <th>4</th>\n",
       "      <td>2014</td>\n",
       "      <td>NaN</td>\n",
       "      <td>NaN</td>\n",
       "      <td>NaN</td>\n",
       "      <td>NaN</td>\n",
       "      <td>NaN</td>\n",
       "      <td>NaN</td>\n",
       "    </tr>\n",
       "    <tr>\n",
       "      <th>5</th>\n",
       "      <td>2015</td>\n",
       "      <td>NaN</td>\n",
       "      <td>NaN</td>\n",
       "      <td>NaN</td>\n",
       "      <td>NaN</td>\n",
       "      <td>NaN</td>\n",
       "      <td>NaN</td>\n",
       "    </tr>\n",
       "  </tbody>\n",
       "</table>\n",
       "</div>"
      ],
      "text/plain": [
       "   OriginYear   12   24   36   48   60   72\n",
       "0        2010  NaN  NaN  NaN  NaN  NaN  NaN\n",
       "1        2011  NaN  NaN  NaN  NaN  NaN  NaN\n",
       "2        2012  NaN  NaN  NaN  NaN  NaN  NaN\n",
       "3        2013  NaN  NaN  NaN  NaN  NaN  NaN\n",
       "4        2014  NaN  NaN  NaN  NaN  NaN  NaN\n",
       "5        2015  NaN  NaN  NaN  NaN  NaN  NaN"
      ]
     },
     "execution_count": 19,
     "metadata": {},
     "output_type": "execute_result"
    }
   ],
   "source": [
    "df_cumulative_txn_amt"
   ]
  },
  {
   "cell_type": "code",
   "execution_count": 20,
   "metadata": {},
   "outputs": [],
   "source": [
    "for row_index, row in df_cumulative_txn_amt.iterrows():\n",
    "        col_idx = 0\n",
    "        df2 = df[df['OriginYear'] == row[0]]\n",
    "        for col in range(len(row) - row_index):\n",
    "            if col_idx != 0:\n",
    "                age_in_months = int(df_cumulative_txn_amt.columns[col_idx])\n",
    "                age_in_years  = int(age_in_months/12)\n",
    "                txn_year_upper_bound = row[0] + age_in_years\n",
    "                df_cumulative_txn_amt.at[row_index, df_cumulative_txn_amt.columns[col_idx]] = df2[df2['TransactionDate'].dt.year < txn_year_upper_bound]['Amount'].sum()\n",
    "            col_idx += 1       "
   ]
  },
  {
   "cell_type": "code",
   "execution_count": 21,
   "metadata": {},
   "outputs": [
    {
     "data": {
      "text/html": [
       "<div>\n",
       "<style scoped>\n",
       "    .dataframe tbody tr th:only-of-type {\n",
       "        vertical-align: middle;\n",
       "    }\n",
       "\n",
       "    .dataframe tbody tr th {\n",
       "        vertical-align: top;\n",
       "    }\n",
       "\n",
       "    .dataframe thead th {\n",
       "        text-align: right;\n",
       "    }\n",
       "</style>\n",
       "<table border=\"1\" class=\"dataframe\">\n",
       "  <thead>\n",
       "    <tr style=\"text-align: right;\">\n",
       "      <th></th>\n",
       "      <th>OriginYear</th>\n",
       "      <th>12</th>\n",
       "      <th>24</th>\n",
       "      <th>36</th>\n",
       "      <th>48</th>\n",
       "      <th>60</th>\n",
       "      <th>72</th>\n",
       "    </tr>\n",
       "  </thead>\n",
       "  <tbody>\n",
       "    <tr>\n",
       "      <th>0</th>\n",
       "      <td>2010</td>\n",
       "      <td>2259.67</td>\n",
       "      <td>3614.78</td>\n",
       "      <td>5274.81</td>\n",
       "      <td>6632.37</td>\n",
       "      <td>7930.69</td>\n",
       "      <td>8964.49</td>\n",
       "    </tr>\n",
       "    <tr>\n",
       "      <th>1</th>\n",
       "      <td>2011</td>\n",
       "      <td>2238.46</td>\n",
       "      <td>3757.9</td>\n",
       "      <td>5465.99</td>\n",
       "      <td>6703.11</td>\n",
       "      <td>7862.24</td>\n",
       "      <td>NaN</td>\n",
       "    </tr>\n",
       "    <tr>\n",
       "      <th>2</th>\n",
       "      <td>2012</td>\n",
       "      <td>2181.35</td>\n",
       "      <td>3874.69</td>\n",
       "      <td>5226.86</td>\n",
       "      <td>6501.85</td>\n",
       "      <td>NaN</td>\n",
       "      <td>NaN</td>\n",
       "    </tr>\n",
       "    <tr>\n",
       "      <th>3</th>\n",
       "      <td>2013</td>\n",
       "      <td>2179.85</td>\n",
       "      <td>3609.81</td>\n",
       "      <td>5227.75</td>\n",
       "      <td>NaN</td>\n",
       "      <td>NaN</td>\n",
       "      <td>NaN</td>\n",
       "    </tr>\n",
       "    <tr>\n",
       "      <th>4</th>\n",
       "      <td>2014</td>\n",
       "      <td>1830.85</td>\n",
       "      <td>3262.05</td>\n",
       "      <td>NaN</td>\n",
       "      <td>NaN</td>\n",
       "      <td>NaN</td>\n",
       "      <td>NaN</td>\n",
       "    </tr>\n",
       "    <tr>\n",
       "      <th>5</th>\n",
       "      <td>2015</td>\n",
       "      <td>1912.17</td>\n",
       "      <td>NaN</td>\n",
       "      <td>NaN</td>\n",
       "      <td>NaN</td>\n",
       "      <td>NaN</td>\n",
       "      <td>NaN</td>\n",
       "    </tr>\n",
       "  </tbody>\n",
       "</table>\n",
       "</div>"
      ],
      "text/plain": [
       "   OriginYear       12       24       36       48       60       72\n",
       "0        2010  2259.67  3614.78  5274.81  6632.37  7930.69  8964.49\n",
       "1        2011  2238.46   3757.9  5465.99  6703.11  7862.24      NaN\n",
       "2        2012  2181.35  3874.69  5226.86  6501.85      NaN      NaN\n",
       "3        2013  2179.85  3609.81  5227.75      NaN      NaN      NaN\n",
       "4        2014  1830.85  3262.05      NaN      NaN      NaN      NaN\n",
       "5        2015  1912.17      NaN      NaN      NaN      NaN      NaN"
      ]
     },
     "execution_count": 21,
     "metadata": {},
     "output_type": "execute_result"
    }
   ],
   "source": [
    "#Printing table to standard output\n",
    "df_cumulative_txn_amt"
   ]
  },
  {
   "cell_type": "markdown",
   "metadata": {},
   "source": [
    "Step 5: Calculate cumulative transaction amounts  \n"
   ]
  },
  {
   "cell_type": "code",
   "execution_count": 22,
   "metadata": {},
   "outputs": [],
   "source": [
    "df_new_customers = pd.DataFrame(columns = ['OriginYear', '12', '24', '36', '48', '60', '72'])"
   ]
  },
  {
   "cell_type": "code",
   "execution_count": 23,
   "metadata": {},
   "outputs": [],
   "source": [
    "#populating origin year column based on unique values obtained in the original dataframe\n",
    "df_new_customers['OriginYear'] = sorted(df['OriginYear'].unique())"
   ]
  },
  {
   "cell_type": "code",
   "execution_count": 24,
   "metadata": {},
   "outputs": [
    {
     "data": {
      "text/html": [
       "<div>\n",
       "<style scoped>\n",
       "    .dataframe tbody tr th:only-of-type {\n",
       "        vertical-align: middle;\n",
       "    }\n",
       "\n",
       "    .dataframe tbody tr th {\n",
       "        vertical-align: top;\n",
       "    }\n",
       "\n",
       "    .dataframe thead th {\n",
       "        text-align: right;\n",
       "    }\n",
       "</style>\n",
       "<table border=\"1\" class=\"dataframe\">\n",
       "  <thead>\n",
       "    <tr style=\"text-align: right;\">\n",
       "      <th></th>\n",
       "      <th>OriginYear</th>\n",
       "      <th>12</th>\n",
       "      <th>24</th>\n",
       "      <th>36</th>\n",
       "      <th>48</th>\n",
       "      <th>60</th>\n",
       "      <th>72</th>\n",
       "    </tr>\n",
       "  </thead>\n",
       "  <tbody>\n",
       "    <tr>\n",
       "      <th>0</th>\n",
       "      <td>2010</td>\n",
       "      <td>NaN</td>\n",
       "      <td>NaN</td>\n",
       "      <td>NaN</td>\n",
       "      <td>NaN</td>\n",
       "      <td>NaN</td>\n",
       "      <td>NaN</td>\n",
       "    </tr>\n",
       "    <tr>\n",
       "      <th>1</th>\n",
       "      <td>2011</td>\n",
       "      <td>NaN</td>\n",
       "      <td>NaN</td>\n",
       "      <td>NaN</td>\n",
       "      <td>NaN</td>\n",
       "      <td>NaN</td>\n",
       "      <td>NaN</td>\n",
       "    </tr>\n",
       "    <tr>\n",
       "      <th>2</th>\n",
       "      <td>2012</td>\n",
       "      <td>NaN</td>\n",
       "      <td>NaN</td>\n",
       "      <td>NaN</td>\n",
       "      <td>NaN</td>\n",
       "      <td>NaN</td>\n",
       "      <td>NaN</td>\n",
       "    </tr>\n",
       "    <tr>\n",
       "      <th>3</th>\n",
       "      <td>2013</td>\n",
       "      <td>NaN</td>\n",
       "      <td>NaN</td>\n",
       "      <td>NaN</td>\n",
       "      <td>NaN</td>\n",
       "      <td>NaN</td>\n",
       "      <td>NaN</td>\n",
       "    </tr>\n",
       "    <tr>\n",
       "      <th>4</th>\n",
       "      <td>2014</td>\n",
       "      <td>NaN</td>\n",
       "      <td>NaN</td>\n",
       "      <td>NaN</td>\n",
       "      <td>NaN</td>\n",
       "      <td>NaN</td>\n",
       "      <td>NaN</td>\n",
       "    </tr>\n",
       "    <tr>\n",
       "      <th>5</th>\n",
       "      <td>2015</td>\n",
       "      <td>NaN</td>\n",
       "      <td>NaN</td>\n",
       "      <td>NaN</td>\n",
       "      <td>NaN</td>\n",
       "      <td>NaN</td>\n",
       "      <td>NaN</td>\n",
       "    </tr>\n",
       "  </tbody>\n",
       "</table>\n",
       "</div>"
      ],
      "text/plain": [
       "   OriginYear   12   24   36   48   60   72\n",
       "0        2010  NaN  NaN  NaN  NaN  NaN  NaN\n",
       "1        2011  NaN  NaN  NaN  NaN  NaN  NaN\n",
       "2        2012  NaN  NaN  NaN  NaN  NaN  NaN\n",
       "3        2013  NaN  NaN  NaN  NaN  NaN  NaN\n",
       "4        2014  NaN  NaN  NaN  NaN  NaN  NaN\n",
       "5        2015  NaN  NaN  NaN  NaN  NaN  NaN"
      ]
     },
     "execution_count": 24,
     "metadata": {},
     "output_type": "execute_result"
    }
   ],
   "source": [
    "df_new_customers"
   ]
  },
  {
   "cell_type": "code",
   "execution_count": 25,
   "metadata": {},
   "outputs": [],
   "source": [
    "colsize = df_new_customers.columns.size\n",
    "for idx, i in enumerate(df.groupby('OriginYear')):\n",
    "    df_new_customers.loc[idx, 1:colsize-idx] = i[1]['CustomerID'].unique().size "
   ]
  },
  {
   "cell_type": "code",
   "execution_count": 26,
   "metadata": {},
   "outputs": [
    {
     "data": {
      "text/html": [
       "<div>\n",
       "<style scoped>\n",
       "    .dataframe tbody tr th:only-of-type {\n",
       "        vertical-align: middle;\n",
       "    }\n",
       "\n",
       "    .dataframe tbody tr th {\n",
       "        vertical-align: top;\n",
       "    }\n",
       "\n",
       "    .dataframe thead th {\n",
       "        text-align: right;\n",
       "    }\n",
       "</style>\n",
       "<table border=\"1\" class=\"dataframe\">\n",
       "  <thead>\n",
       "    <tr style=\"text-align: right;\">\n",
       "      <th></th>\n",
       "      <th>OriginYear</th>\n",
       "      <th>12</th>\n",
       "      <th>24</th>\n",
       "      <th>36</th>\n",
       "      <th>48</th>\n",
       "      <th>60</th>\n",
       "      <th>72</th>\n",
       "    </tr>\n",
       "  </thead>\n",
       "  <tbody>\n",
       "    <tr>\n",
       "      <th>0</th>\n",
       "      <td>2010</td>\n",
       "      <td>172</td>\n",
       "      <td>172</td>\n",
       "      <td>172</td>\n",
       "      <td>172</td>\n",
       "      <td>172</td>\n",
       "      <td>172</td>\n",
       "    </tr>\n",
       "    <tr>\n",
       "      <th>1</th>\n",
       "      <td>2011</td>\n",
       "      <td>170</td>\n",
       "      <td>170</td>\n",
       "      <td>170</td>\n",
       "      <td>170</td>\n",
       "      <td>170</td>\n",
       "      <td>NaN</td>\n",
       "    </tr>\n",
       "    <tr>\n",
       "      <th>2</th>\n",
       "      <td>2012</td>\n",
       "      <td>163</td>\n",
       "      <td>163</td>\n",
       "      <td>163</td>\n",
       "      <td>163</td>\n",
       "      <td>NaN</td>\n",
       "      <td>NaN</td>\n",
       "    </tr>\n",
       "    <tr>\n",
       "      <th>3</th>\n",
       "      <td>2013</td>\n",
       "      <td>180</td>\n",
       "      <td>180</td>\n",
       "      <td>180</td>\n",
       "      <td>NaN</td>\n",
       "      <td>NaN</td>\n",
       "      <td>NaN</td>\n",
       "    </tr>\n",
       "    <tr>\n",
       "      <th>4</th>\n",
       "      <td>2014</td>\n",
       "      <td>155</td>\n",
       "      <td>155</td>\n",
       "      <td>NaN</td>\n",
       "      <td>NaN</td>\n",
       "      <td>NaN</td>\n",
       "      <td>NaN</td>\n",
       "    </tr>\n",
       "    <tr>\n",
       "      <th>5</th>\n",
       "      <td>2015</td>\n",
       "      <td>160</td>\n",
       "      <td>NaN</td>\n",
       "      <td>NaN</td>\n",
       "      <td>NaN</td>\n",
       "      <td>NaN</td>\n",
       "      <td>NaN</td>\n",
       "    </tr>\n",
       "  </tbody>\n",
       "</table>\n",
       "</div>"
      ],
      "text/plain": [
       "   OriginYear   12   24   36   48   60   72\n",
       "0        2010  172  172  172  172  172  172\n",
       "1        2011  170  170  170  170  170  NaN\n",
       "2        2012  163  163  163  163  NaN  NaN\n",
       "3        2013  180  180  180  NaN  NaN  NaN\n",
       "4        2014  155  155  NaN  NaN  NaN  NaN\n",
       "5        2015  160  NaN  NaN  NaN  NaN  NaN"
      ]
     },
     "execution_count": 26,
     "metadata": {},
     "output_type": "execute_result"
    }
   ],
   "source": [
    "# Printing New customer table to standard output\n",
    "df_new_customers"
   ]
  },
  {
   "cell_type": "markdown",
   "metadata": {},
   "source": [
    "Step 6: Historic CLV  \n"
   ]
  },
  {
   "cell_type": "code",
   "execution_count": 27,
   "metadata": {},
   "outputs": [],
   "source": [
    "df_historic_clv = pd.DataFrame(columns = ['OriginYear', '12', '24', '36', '48', '60', '72'])\n",
    "df_historic_clv['OriginYear'] = sorted(df['OriginYear'].unique())"
   ]
  },
  {
   "cell_type": "code",
   "execution_count": 28,
   "metadata": {},
   "outputs": [],
   "source": [
    "import numpy as np\n",
    "for column in df_historic_clv.columns[1:]:\n",
    "    df_historic_clv[column] = df_cumulative_txn_amt[column]/df_new_customers[column]  #dividing amount.cltv triangle by NewCustomers.cltv triangle\n",
    "    df_historic_clv[column] = np.around(df_historic_clv[column].astype('float'), 2) # rounding to 2 decimal places"
   ]
  },
  {
   "cell_type": "code",
   "execution_count": 29,
   "metadata": {},
   "outputs": [
    {
     "data": {
      "text/html": [
       "<div>\n",
       "<style scoped>\n",
       "    .dataframe tbody tr th:only-of-type {\n",
       "        vertical-align: middle;\n",
       "    }\n",
       "\n",
       "    .dataframe tbody tr th {\n",
       "        vertical-align: top;\n",
       "    }\n",
       "\n",
       "    .dataframe thead th {\n",
       "        text-align: right;\n",
       "    }\n",
       "</style>\n",
       "<table border=\"1\" class=\"dataframe\">\n",
       "  <thead>\n",
       "    <tr style=\"text-align: right;\">\n",
       "      <th></th>\n",
       "      <th>OriginYear</th>\n",
       "      <th>12</th>\n",
       "      <th>24</th>\n",
       "      <th>36</th>\n",
       "      <th>48</th>\n",
       "      <th>60</th>\n",
       "      <th>72</th>\n",
       "    </tr>\n",
       "  </thead>\n",
       "  <tbody>\n",
       "    <tr>\n",
       "      <th>0</th>\n",
       "      <td>2010</td>\n",
       "      <td>13.14</td>\n",
       "      <td>21.02</td>\n",
       "      <td>30.67</td>\n",
       "      <td>38.56</td>\n",
       "      <td>46.11</td>\n",
       "      <td>52.12</td>\n",
       "    </tr>\n",
       "    <tr>\n",
       "      <th>1</th>\n",
       "      <td>2011</td>\n",
       "      <td>13.17</td>\n",
       "      <td>22.11</td>\n",
       "      <td>32.15</td>\n",
       "      <td>39.43</td>\n",
       "      <td>46.25</td>\n",
       "      <td>NaN</td>\n",
       "    </tr>\n",
       "    <tr>\n",
       "      <th>2</th>\n",
       "      <td>2012</td>\n",
       "      <td>13.38</td>\n",
       "      <td>23.77</td>\n",
       "      <td>32.07</td>\n",
       "      <td>39.89</td>\n",
       "      <td>NaN</td>\n",
       "      <td>NaN</td>\n",
       "    </tr>\n",
       "    <tr>\n",
       "      <th>3</th>\n",
       "      <td>2013</td>\n",
       "      <td>12.11</td>\n",
       "      <td>20.05</td>\n",
       "      <td>29.04</td>\n",
       "      <td>NaN</td>\n",
       "      <td>NaN</td>\n",
       "      <td>NaN</td>\n",
       "    </tr>\n",
       "    <tr>\n",
       "      <th>4</th>\n",
       "      <td>2014</td>\n",
       "      <td>11.81</td>\n",
       "      <td>21.05</td>\n",
       "      <td>NaN</td>\n",
       "      <td>NaN</td>\n",
       "      <td>NaN</td>\n",
       "      <td>NaN</td>\n",
       "    </tr>\n",
       "    <tr>\n",
       "      <th>5</th>\n",
       "      <td>2015</td>\n",
       "      <td>11.95</td>\n",
       "      <td>NaN</td>\n",
       "      <td>NaN</td>\n",
       "      <td>NaN</td>\n",
       "      <td>NaN</td>\n",
       "      <td>NaN</td>\n",
       "    </tr>\n",
       "  </tbody>\n",
       "</table>\n",
       "</div>"
      ],
      "text/plain": [
       "   OriginYear     12     24     36     48     60     72\n",
       "0        2010  13.14  21.02  30.67  38.56  46.11  52.12\n",
       "1        2011  13.17  22.11  32.15  39.43  46.25    NaN\n",
       "2        2012  13.38  23.77  32.07  39.89    NaN    NaN\n",
       "3        2013  12.11  20.05  29.04    NaN    NaN    NaN\n",
       "4        2014  11.81  21.05    NaN    NaN    NaN    NaN\n",
       "5        2015  11.95    NaN    NaN    NaN    NaN    NaN"
      ]
     },
     "execution_count": 29,
     "metadata": {},
     "output_type": "execute_result"
    }
   ],
   "source": [
    "#Printing Historic CLV table to standard output\n",
    "df_historic_clv"
   ]
  },
  {
   "cell_type": "code",
   "execution_count": 30,
   "metadata": {},
   "outputs": [
    {
     "data": {
      "image/png": "[encoded data removed]",
      "text/plain": [
       "<Figure size 432x288 with 1 Axes>"
      ]
     },
     "metadata": {
      "needs_background": "light"
     },
     "output_type": "display_data"
    }
   ],
   "source": [
    "for i in df_historic_clv.iterrows():\n",
    "    plt.plot(i[1][1:], marker = '.')\n",
    "plt.legend(['2010','2011','2012','2013','2014','2015'])\n",
    "plt.xlabel('Age')\n",
    "plt.ylabel('HistoricCLV')\n",
    "plt.title('Historic CLV')\n",
    "plt.show()"
   ]
  },
  {
   "cell_type": "markdown",
   "metadata": {},
   "source": [
    "At this point, we’d like to combine all of our data to create a single curve of Historic CLV.   \n",
    "A simple, but effective approach   to doing this is to take a volume-weighted average of the Historic CLV for each group at each Age, weighted by the number of   customers in each group"
   ]
  },
  {
   "cell_type": "code",
   "execution_count": 31,
   "metadata": {},
   "outputs": [],
   "source": [
    "#pd.DataFrame(df_new_customers.values*df_cumulative_txn_amt.values, columns=df.columns[1:], index=df.index)\n",
    "df3 = df_new_customers[df_new_customers.columns[1:]].multiply(df_historic_clv[df_historic_clv.columns[1:]])"
   ]
  },
  {
   "cell_type": "code",
   "execution_count": 32,
   "metadata": {},
   "outputs": [],
   "source": [
    "df4 = pd.DataFrame(columns = [ '12', '24', '36', '48', '60', '72'])"
   ]
  },
  {
   "cell_type": "code",
   "execution_count": 33,
   "metadata": {},
   "outputs": [],
   "source": [
    "for idx, column in enumerate(df3):\n",
    "    df4.loc[0, df4.columns[idx]] = df3.iloc[:,idx].sum()/df_new_customers.iloc[:, idx+1].sum()\n",
    "    #print(df3.iloc[:,idx].sum()/df_new_customers.iloc[:, idx+1].sum())"
   ]
  },
  {
   "cell_type": "code",
   "execution_count": 34,
   "metadata": {},
   "outputs": [
    {
     "data": {
      "text/html": [
       "<div>\n",
       "<style scoped>\n",
       "    .dataframe tbody tr th:only-of-type {\n",
       "        vertical-align: middle;\n",
       "    }\n",
       "\n",
       "    .dataframe tbody tr th {\n",
       "        vertical-align: top;\n",
       "    }\n",
       "\n",
       "    .dataframe thead th {\n",
       "        text-align: right;\n",
       "    }\n",
       "</style>\n",
       "<table border=\"1\" class=\"dataframe\">\n",
       "  <thead>\n",
       "    <tr style=\"text-align: right;\">\n",
       "      <th></th>\n",
       "      <th>12</th>\n",
       "      <th>24</th>\n",
       "      <th>36</th>\n",
       "      <th>48</th>\n",
       "      <th>60</th>\n",
       "      <th>72</th>\n",
       "    </tr>\n",
       "  </thead>\n",
       "  <tbody>\n",
       "    <tr>\n",
       "      <th>0</th>\n",
       "      <td>12.6023</td>\n",
       "      <td>21.5719</td>\n",
       "      <td>30.9421</td>\n",
       "      <td>39.2822</td>\n",
       "      <td>46.1796</td>\n",
       "      <td>52.12</td>\n",
       "    </tr>\n",
       "  </tbody>\n",
       "</table>\n",
       "</div>"
      ],
      "text/plain": [
       "        12       24       36       48       60     72\n",
       "0  12.6023  21.5719  30.9421  39.2822  46.1796  52.12"
      ]
     },
     "execution_count": 34,
     "metadata": {},
     "output_type": "execute_result"
    }
   ],
   "source": [
    "# Printing volume weighted single historic CLV\n",
    "df4"
   ]
  },
  {
   "cell_type": "code",
   "execution_count": 35,
   "metadata": {},
   "outputs": [
    {
     "data": {
      "image/png": "[encoded data removed]",
      "text/plain": [
       "<Figure size 432x288 with 1 Axes>"
      ]
     },
     "metadata": {
      "needs_background": "light"
     },
     "output_type": "display_data"
    }
   ],
   "source": [
    "#Plotting a single historic CLV line\n",
    "row = df4.iloc[0]\n",
    "plt.plot(row)\n",
    "plt.xlabel('Age')\n",
    "plt.ylabel('Historic CLV')\n",
    "plt.show()"
   ]
  },
  {
   "cell_type": "markdown",
   "metadata": {},
   "source": [
    "Step 7: Interpreting your results  \n"
   ]
  },
  {
   "cell_type": "markdown",
   "metadata": {},
   "source": [
    "\n",
    "A customer acquired in 2011 has spent $46.25 to date (i.e., the end of 2015)."
   ]
  },
  {
   "cell_type": "markdown",
   "metadata": {},
   "source": [
    "Based on the Historic CLV vs Age plot below for different customer origin years, it can be observed that each group of customers exhibit similar patters of spending. Since each group of customers exhibit similar spending patters, we can make a reasonable assertion that a decent lower bound for CLV is $52.12. \n",
    "\n",
    "In this case, CLV refers to the revenue/business attributable to a customer over a 5-year relationship with the business.       \n",
    "\n",
    "  Implication: Here the CLV can help the business evalute the worth of investing in a long-term relationship with a customer.\n",
    "The business can use this metric to make marketing and sales decisions to know how much (at max) to spend to acquire a single customer. Ideally, the CLV should be greater than the cost of acquiring a customer. Hence, on average, the business should spend no more than $52.12 to acquire a single customer.\n",
    "\n"
   ]
  },
  {
   "cell_type": "code",
   "execution_count": 36,
   "metadata": {},
   "outputs": [
    {
     "data": {
      "image/png": "[encoded data removed]",
      "text/plain": [
       "<Figure size 432x288 with 1 Axes>"
      ]
     },
     "metadata": {
      "needs_background": "light"
     },
     "output_type": "display_data"
    }
   ],
   "source": [
    "for i in df_historic_clv.iterrows():\n",
    "    plt.plot(i[1][1:], marker = '.')\n",
    "plt.legend(['2010','2011','2012','2013','2014','2015'])\n",
    "plt.xlabel('Age')\n",
    "plt.ylabel('HistoricCLV')\n",
    "plt.title('Historic CLV')\n",
    "plt.show()"
   ]
  }
 ],
 "metadata": {
  "kernelspec": {
   "display_name": "Python 3",
   "language": "python",
   "name": "python3"
  },
  "language_info": {
   "codemirror_mode": {
    "name": "ipython",
    "version": 3
   },
   "file_extension": ".py",
   "mimetype": "text/x-python",
   "name": "python",
   "nbconvert_exporter": "python",
   "pygments_lexer": "ipython3",
   "version": "3.7.1"
  }
 },
 "nbformat": 4,
 "nbformat_minor": 2
}
